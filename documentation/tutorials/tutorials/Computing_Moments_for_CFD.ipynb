{
 "cells": [
  {
   "cell_type": "code",
   "execution_count": 206,
   "metadata": {
    "colab": {
     "base_uri": "https://localhost:8080/"
    },
    "id": "QuX95BBWbwLq",
    "nbsphinx": "hidden",
    "outputId": "e74f4755-22a0-48e9-9967-64d829d1a220"
   },
   "outputs": [],
   "source": [
    "# Check if running on colab\n",
    "try:\n",
    "  import google.colab\n",
    "  IN_COLAB = True\n",
    "except:\n",
    "  IN_COLAB = False\n",
    "\n",
    "# pip install any missing packages\n",
    "if IN_COLAB:\n",
    "  !pip install equadratures # for standard pip install"
   ]
  },
  {
   "cell_type": "markdown",
   "metadata": {
    "id": "DUGm5xsAbwLn"
   },
   "source": [
    "# Uncertainty quantification of CFD simulations"
   ]
  },
  {
   "cell_type": "markdown",
   "metadata": {},
   "source": [
    "One of the primary uses of `equadratures`, and orthogonal polynomials, is for uncertainty quantification. Given a model under uncertain inputs, we wish to compute the uncertainty in its output. As is demonstrated in this tutorial, we can use polynomial chaos expansion (PCE) to replace the expensive-to-compute computational model with a polynomial, and use this to compute the moments (i.e. mean and variance) of the model's output. "
   ]
  },
  {
   "cell_type": "markdown",
   "metadata": {},
   "source": [
    "## Polynomial chaos and Monte Carlo\n",
    "\n",
    "We start with an important question. Why bother using polynomials for estimating moments? What exactly is the advantage? Moreover, are we guaranteed that we will converge to the Monte Carlo solution? The answer is a resounding yes! Infact this is precisely what Dongbin Xiu and George Karniandakis showed in their seminal paper [1]. As always we begin with some definitions: `Parameter`, `Basis` and `Poly`.\n",
    "\n",
    "For our model problem, let's consider Rosenbrock's function\n",
    "\n",
    "$$\n",
    "f(x_1, x_2) = (1 - x_1)^2 + 100(x_1 - x_2^2)^2,\n",
    "$$\n",
    "\n",
    "where we will assume that $x_1$ and $x_2$ are two uncertainties. We will assume that both parameters are Gaussians with $\\mu=1$ and $\\sigma=2$. Our objective is to compute the mean and variance (the first and second moments) in the output. To set the stage, lets define our computational model"
   ]
  },
  {
   "cell_type": "code",
   "execution_count": 140,
   "metadata": {},
   "outputs": [],
   "source": [
    "import numpy as np                                                                                                                                                                                      \n",
    "import matplotlib.pyplot as plt\n",
    "import equadratures as eq\n",
    "\n",
    "def rosenbrock_fun(x):\n",
    "    return (1 - x[0])**2 + 100*(x[1] - x[0]**2)**2"
   ]
  },
  {
   "cell_type": "markdown",
   "metadata": {},
   "source": [
    "Next, we set the number of evaluation points in each direction. Lets opt for 7 points along each direction - more than sufficient to approximate the function exactly."
   ]
  },
  {
   "cell_type": "code",
   "execution_count": 20,
   "metadata": {},
   "outputs": [],
   "source": [
    "mu = 1\n",
    "sigma = 2\n",
    "variance = sigma**2\n",
    "x1 = Parameter(distribution=\"Gaussian\", shape_parameter_A=mu, shape_parameter_B=variance)\n",
    "x2 = Parameter(distribution=\"Gaussian\", shape_parameter_A=mu, shape_parameter_B=variance)\n",
    "myparams = [x1, x2]"
   ]
  },
  {
   "cell_type": "markdown",
   "metadata": {},
   "source": [
    "Now, we can set the problem up, compute the coefficients, and then use equadratures to perform a polynomial chaos expansion in order to estimate the mean and the variance of our model output. We wrap this in a function `pce` so that we can try this for a range of polynomial orders later on."
   ]
  },
  {
   "cell_type": "code",
   "execution_count": 134,
   "metadata": {},
   "outputs": [
    {
     "data": {
      "text/plain": [
       "(6803.999999999987, 476659231.99999607)"
      ]
     },
     "execution_count": 134,
     "metadata": {},
     "output_type": "execute_result"
    }
   ],
   "source": [
    "def pce(params,order,function):\n",
    "    mybasis = eq.Basis('tensor-grid',orders=[order,order])\n",
    "    mypoly = eq.Poly(myparams, mybasis, method='numerical-integration')\n",
    "    mypoly.set_model(rosenbrock_fun)\n",
    "    mean, variance = mypoly.get_mean_and_variance()\n",
    "    return mean, variance\n",
    "\n",
    "pce(myparams,4,rosenbrock_fun)"
   ]
  },
  {
   "cell_type": "markdown",
   "metadata": {},
   "source": [
    "Now, we compare these results with Monte Carlo. Again, this is wrapped in a function for later."
   ]
  },
  {
   "cell_type": "code",
   "execution_count": 24,
   "metadata": {},
   "outputs": [
    {
     "data": {
      "text/plain": [
       "(6812.768153873702, 475655678.9051727)"
      ]
     },
     "execution_count": 24,
     "metadata": {},
     "output_type": "execute_result"
    }
   ],
   "source": [
    "def monte_carlo(n_samples,function):\n",
    "    n_samples = int(n_samples)\n",
    "    s = sigma * np.random.randn(n_samples,2) + mu\n",
    "    f = np.zeros((n_samples,1))\n",
    "    for i in range(0, n_samples):\n",
    "        f[i,0] = function([s[i,0], s[i,1]])\n",
    "    return np.mean(f), np.var(f)\n",
    "\n",
    "monte_carlo(1e6,rosenbrock_fun)"
   ]
  },
  {
   "cell_type": "markdown",
   "metadata": {},
   "source": [
    "The results are very close! In fact the polynomial approximation results are exact (to machine precision), because Rosenbrock's function is a polynomial itself!\n",
    "\n",
    "But what order should we use? This is a tough question to answer without any apriori knowledge of the function we wish to obtain statistical moments from. We defer this question to the later tutorials, but for now we will explore the effect of the order on  accuracy. The plots below show the convergence in mean and variance with different number of samples (recall that the polynomial order determines the number of samples/model evaluations required)."
   ]
  },
  {
   "cell_type": "code",
   "execution_count": 135,
   "metadata": {},
   "outputs": [],
   "source": [
    "# THIS WILL TAKE A WHILE - SKIP IF SHORT ON TIME!\n",
    "# Test pce\n",
    "Ntests = 10\n",
    "n_to_try_pce = np.logspace(0.4,2.0,Ntests,dtype=int)\n",
    "mean_pce = np.empty(Ntests)\n",
    "var_pce  = np.empty(Ntests)\n",
    "for i, n_samples in enumerate(n_to_try_pce):\n",
    "    #n_samples-1 here as no. of model evals is order+1 in 1D\n",
    "    mean_pce[i], var_pce[i] = pce(myparams,n_samples-1,rosenbrock_fun) \n",
    "    \n",
    "# Test Monte carlo\n",
    "Ntests = 10\n",
    "n_to_try_mc = np.logspace(1,7,10,dtype=int)\n",
    "mean_mc = np.empty(Ntests)\n",
    "var_mc  = np.empty(Ntests)\n",
    "for i, n_samples in enumerate(n_to_try_mc):\n",
    "    mean_mc[i], var_mc[i] = monte_carlo(n_samples,rosenbrock_fun)"
   ]
  },
  {
   "cell_type": "code",
   "execution_count": 138,
   "metadata": {},
   "outputs": [
    {
     "data": {
      "image/png": "[encoded data removed]",
      "text/plain": [
       "<Figure size 864x360 with 2 Axes>"
      ]
     },
     "metadata": {
      "needs_background": "light"
     },
     "output_type": "display_data"
    }
   ],
   "source": [
    "fig1, (ax1, ax2) = plt.subplots(1,2,figsize=(12,5),tight_layout=True)\n",
    "ax1.set_xlabel('Number of samples'); ax2.set_xlabel('Number of samples')\n",
    "ax1.set_ylabel('Mean'); ax2.set_ylabel('Variance')\n",
    "ax1.set_xscale('log'); ax1.set_yscale('log')\n",
    "ax2.set_xscale('log'); ax2.set_yscale('log')\n",
    "\n",
    "# Plot PCE\n",
    "ax1.plot(n_to_try_pce,mean_pce,'-o',label='PCE')\n",
    "ax1.plot(n_to_try_mc,mean_mc,'-o',label='Monte Carlo')\n",
    "#Plot MC\n",
    "ax2.plot(n_to_try_pce,var_pce,'-o',label='PCE')\n",
    "ax2.plot(n_to_try_mc,var_mc,'-o',label='Monte Carlo')\n",
    "\n",
    "# Plot True\n",
    "ax1.hlines(6804.000000000074,ax1.get_xlim()[0],ax1.get_xlim()[1],ls='--',color='k',label='Truth')\n",
    "ax2.hlines(476659232.00002444,ax2.get_xlim()[0],ax2.get_xlim()[1],ls='--',color='k',label='Truth')\n",
    "\n",
    "ax1.legend(); ax2.legend()\n",
    "plt.show()"
   ]
  },
  {
   "cell_type": "markdown",
   "metadata": {},
   "source": [
    "Clearly, PCE is able to obtain converged estimates of the mean and variance with orders of magnitude fewer samples than vanilla Monte Carlo sampling. In a scenario where each sample is an expensive model evaluation, this could be crucial! \n",
    "\n",
    "If the third and fourth order moments (Skewness and Kurtosis) were desired, the above difference is likely to be even more pronounced. But we will leave this for you to try yourself! You can compute these with `Poly.get_skewness_and_kurtosis()`."
   ]
  },
  {
   "cell_type": "markdown",
   "metadata": {
    "id": "i5YwLGb-bwLx"
   },
   "source": [
    "## CFD simulations with two aleatory uncertainties"
   ]
  },
  {
   "cell_type": "markdown",
   "metadata": {
    "id": "xNDAIABgbwLx"
   },
   "source": [
    "Moving on from the analytical model (the `rosenbrock_fun()` above), we shall now consider a real world model, a computational fluid dynamics (CFD) simulation of the [LS89 turbine blade](https://aboutflow.sems.qmul.ac.uk/events/munich2016/benchmark/testcase2/) with the [SU2](https://su2code.github.io) CFD solver. \n",
    "\n",
    "<img src=\"images/vki_turbine.jpeg\" alt=\"drawing\" style=\"width:400px;\"/>\n",
    "\n",
    "In this simulation the SST model is used to account for the effect of turbulence. This involves solving two additional PDE's for the turbulent kinetic energy $k$ and specific turbulent dissipation $\\omega$, which can improve accuracy compared to a 0- or 1-equation turbulence model. However, it adds an additional source of aleatory uncertainty; the specification of inflow boundary conditions for $k$ and $\\omega$. \n",
    "\n",
    "We wish to estimate the uncertainty in our QoI due to this new uncertainty source. Our Quantity of Interest (QoI) is the loss coefficient for the cascade:\n",
    "\n",
    "$$\n",
    "Y_p = \\frac{p_{0_{\\infty}}-p_{0}}{p_{0_{\\infty}}-p_{_{\\infty}}}\n",
    "$$\n",
    "\n",
    "SU2 uses turbulence intensity $Ti$, and turbulent viscosity ratio $\\nu_t/\\nu$ as its turbulent boundary conditions ($k = \\frac{3}{2}(U \\;Ti)$ and $\\omega = \\frac{k}{\\nu}\\left(\\frac{\\nu_t}{\\nu} \\right)^{-1}$). So our task here is to estimate the uncertainty (variance) in $Y_p$ due to the uncertainty in $k$ and $\\omega$.\n",
    "\n",
    "As with the analytic example, the workflow involves first defining `Parameter`'s, a `Basis`, and a `Polynomial`. We can often estimate $Ti$ with some confidence, since it can be measured using a hot-wire probe. However, $\\nu_t/\\nu$ is physically more vague, and it is more of an unknown quantity. For this reason we set $Ti$ to have a gaussian distribution, while for $\\nu_t/\\nu$ we can only say it lies within a certain range, therefore we choose a uniform distribution. "
   ]
  },
  {
   "cell_type": "code",
   "execution_count": 207,
   "metadata": {
    "id": "u2QcPQcvbwLy"
   },
   "outputs": [
    {
     "data": {
      "image/png": "[encoded data removed]",
      "text/plain": [
       "<Figure size 720x216 with 2 Axes>"
      ]
     },
     "metadata": {
      "needs_background": "light"
     },
     "output_type": "display_data"
    }
   ],
   "source": [
    "s1 = Parameter(distribution='uniform', lower=1.0, upper=100, order=3) #turb2lamviscosity\n",
    "s2 = Parameter(distribution='Gaussian', shape_parameter_A=10, shape_parameter_B=5, order=3) #Ti\n",
    "fig, (ax1, ax2) = plt.subplots(1,2,figsize=(10,3),tight_layout=True)\n",
    "s1.plot_pdf(ax=ax1,show=False); s2.plot_pdf(ax=ax2,show=False)\n",
    "plt.show()"
   ]
  },
  {
   "cell_type": "markdown",
   "metadata": {
    "id": "bhr2YFyqbwLy"
   },
   "source": [
    "Next we define a Basis and Poly, like before. This time the problem is bivariate, lets keep it simple and choose a `tensor-grid` basis."
   ]
  },
  {
   "cell_type": "code",
   "execution_count": 164,
   "metadata": {
    "id": "SzKTn9hubwLy"
   },
   "outputs": [],
   "source": [
    "mybasis = Basis('tensor-grid')\n",
    "mypoly = Poly(parameters=[s1,s2], basis=mybasis, method='numerical-integration')"
   ]
  },
  {
   "cell_type": "markdown",
   "metadata": {
    "id": "r8GZUkuObwLz"
   },
   "source": [
    "This time running set_model is a little more involved, since our model is a CFD simulation instead of a simple polynomial function. We first ask `equadratures` for the quadrature points, and save them to disk."
   ]
  },
  {
   "cell_type": "code",
   "execution_count": 165,
   "metadata": {
    "id": "-l8u30dHbwLz",
    "outputId": "5b9d7b11-1cdc-42a9-85c9-56e3f6a9f2cb"
   },
   "outputs": [
    {
     "name": "stdout",
     "output_type": "stream",
     "text": [
      "Viscosity ratio \t Ti\n",
      "[[ 7.87375258  4.78009112]\n",
      " [ 7.87375258  8.34091854]\n",
      " [ 7.87375258 11.65908146]\n",
      " [ 7.87375258 15.21990888]\n",
      " [33.67093834  4.78009112]\n",
      " [33.67093834  8.34091854]\n",
      " [33.67093834 11.65908146]\n",
      " [33.67093834 15.21990888]\n",
      " [67.32906166  4.78009112]\n",
      " [67.32906166  8.34091854]\n",
      " [67.32906166 11.65908146]\n",
      " [67.32906166 15.21990888]\n",
      " [93.12624742  4.78009112]\n",
      " [93.12624742  8.34091854]\n",
      " [93.12624742 11.65908146]\n",
      " [93.12624742 15.21990888]]\n"
     ]
    },
    {
     "data": {
      "image/png": "[encoded data removed]",
      "text/plain": [
       "<Figure size 432x288 with 1 Axes>"
      ]
     },
     "metadata": {
      "needs_background": "light"
     },
     "output_type": "display_data"
    }
   ],
   "source": [
    "# Get the DOE points\n",
    "pts = mypoly.get_points()\n",
    "\n",
    "# Print and save to file\n",
    "print('Viscosity ratio \\t Ti')\n",
    "print(pts)\n",
    "np.save('points_to_run.npy', pts)\n",
    "\n",
    "# Plot the DOE points\n",
    "plt.plot(pts[:,0], pts[:,1], 'bo', markersize=15)\n",
    "plt.xlabel(r'$\\hat{\\nu}/\\nu$', fontsize=15)\n",
    "plt.ylabel(r'$Ti (\\%)$', fontsize=15)\n",
    "plt.show()"
   ]
  },
  {
   "cell_type": "markdown",
   "metadata": {
    "id": "W9rfRULlbwLz"
   },
   "source": [
    "The above plot shows our Design of Experiment (DoE). It is relatively straightforward to take the `points_to_run.npy` file and go away and run a set of CFD simulations at these DoE points (especially with the python wrapper functionality of the [SU2](https://su2code.github.io/) CFD code!). The `lossarray_sst.npy` file located in the same directory as this notebook contains the loss coefficient $Y_p$ results obtained by doing exactly this with SU2. \n",
    "\n",
    "Lets load up the loss coefficient $Y_p$ values for our DoE, and pass this data to `mypoly` with `set_model`. "
   ]
  },
  {
   "cell_type": "code",
   "execution_count": 204,
   "metadata": {
    "id": "TGkOgY9dbwLz",
    "outputId": "fdcd5fec-4770-46f4-dd80-bd2e4eff2e00"
   },
   "outputs": [
    {
     "name": "stdout",
     "output_type": "stream",
     "text": [
      "SA ratio \t Ti \t\t Y_p\n",
      "[[7.87375258e+00 4.78009112e+00 5.30310580e-02]\n",
      " [7.87375258e+00 8.34091854e+00 5.28644236e-02]\n",
      " [7.87375258e+00 1.16590815e+01 5.26925252e-02]\n",
      " [7.87375258e+00 1.52199089e+01 5.24967211e-02]\n",
      " [3.36709383e+01 4.78009112e+00 5.32419115e-02]\n",
      " [3.36709383e+01 8.34091854e+00 5.32333854e-02]\n",
      " [3.36709383e+01 1.16590815e+01 5.30672169e-02]\n",
      " [3.36709383e+01 1.52199089e+01 5.28340593e-02]\n",
      " [6.73290617e+01 4.78009112e+00 5.32581624e-02]\n",
      " [6.73290617e+01 8.34091854e+00 5.33894321e-02]\n",
      " [6.73290617e+01 1.16590815e+01 5.32981622e-02]\n",
      " [6.73290617e+01 1.52199089e+01 5.30067064e-02]\n",
      " [9.31262474e+01 4.78009112e+00 5.32606790e-02]\n",
      " [9.31262474e+01 8.34091854e+00 5.34980151e-02]\n",
      " [9.31262474e+01 1.16590815e+01 5.34417742e-02]\n",
      " [9.31262474e+01 1.52199089e+01 5.32224419e-02]]\n"
     ]
    }
   ],
   "source": [
    "# Load the Yp array from file\n",
    "if IN_COLAB: \n",
    "    !wget https://github.com/equadratures/equadratures.github.io/blob/master/_documentation/tutorials/lossarray_sst.npy -O data/lossarray_sst.npy\n",
    "Yp = np.load('data/lossarray_sst.npy').reshape(-1, 1)\n",
    "\n",
    "# Print the Yp array\n",
    "print('SA ratio \\t Ti \\t\\t Y_p')\n",
    "print(np.hstack([pts,Yp]))\n",
    "\n",
    "mypoly.set_model(Yp)"
   ]
  },
  {
   "cell_type": "markdown",
   "metadata": {
    "id": "UOoohqVobwL0"
   },
   "source": [
    "Now all that remains is to compute the mean and variance of $Y_p$."
   ]
  },
  {
   "cell_type": "code",
   "execution_count": 205,
   "metadata": {
    "id": "uq-u-LGdbwL1",
    "outputId": "98d41a39-d52c-4a35-8d61-d89882541124"
   },
   "outputs": [
    {
     "name": "stdout",
     "output_type": "stream",
     "text": [
      "Mean Yp = 0.053\n",
      "95% confidence interval for Yp = 0.00047 (0.88%)\n"
     ]
    }
   ],
   "source": [
    "mean, var = mypoly.get_mean_and_variance()\n",
    "print('Mean Yp = %.2g' %(mean))\n",
    "print('95%% confidence interval for Yp = %.2g (%.2g%%)' %(1.96*np.sqrt(var),100*1.96*np.sqrt(var)/mean))"
   ]
  },
  {
   "cell_type": "markdown",
   "metadata": {
    "id": "7QzbzMdUbwL1"
   },
   "source": [
    "So our 95% confidence interval due to uncertainty in inflow turbulence specficiation is $Y_p\\pm 0.00047$. This seems small but is actually 0.88% of the mean $Y_p$ value, so may be significant depending on your use case. "
   ]
  },
  {
   "cell_type": "markdown",
   "metadata": {
    "id": "G17fPuimbwL1"
   },
   "source": [
    "### Checking the accuracy of the polynomial approximation"
   ]
  },
  {
   "cell_type": "markdown",
   "metadata": {
    "id": "DA_R4NvQbwL2"
   },
   "source": [
    "A word of warning here. Accurate computed moments rely on the polynomial approximation being accurate. We have ommited checks of the polynomial accuracy so far for brevity, but usually this would be done before we call `get_mean_and_variance`. These checks would usually involve checking the $R^2$ score and/or Root Mean Squared Error (RMSE) at the quadrature points."
   ]
  },
  {
   "cell_type": "code",
   "execution_count": 174,
   "metadata": {
    "id": "o0K_UnVIbwL2",
    "outputId": "94d786a2-550b-49e6-ec81-d803a89faa65"
   },
   "outputs": [
    {
     "name": "stdout",
     "output_type": "stream",
     "text": [
      "R2 = 1, RMSE = 1.76e-16\n"
     ]
    }
   ],
   "source": [
    "y_pred = mypoly.get_polyfit(pts).squeeze()\n",
    "y_true = Yp.squeeze()\n",
    "r2 = eq.datasets.score(y_pred,y_true,metric='r2')\n",
    "rmse = eq.datasets.score(y_pred,y_true,metric='rmse')\n",
    "print('R2 = %.3g, RMSE = %.3g' %(r2,rmse))"
   ]
  },
  {
   "cell_type": "markdown",
   "metadata": {
    "id": "JVRyRuYobwL2"
   },
   "source": [
    "So we are happy with the accuracy in this case!"
   ]
  },
  {
   "cell_type": "markdown",
   "metadata": {
    "id": "JjenWXAgbwL2"
   },
   "source": [
    "### Dealing with invalid simulation results"
   ]
  },
  {
   "cell_type": "markdown",
   "metadata": {
    "id": "GX4dAEXpbwL3"
   },
   "source": [
    "Any CFD practitioner is probably all too familiar with CFD simulations not converging! So what happens to the above procedure in this case? To investigate, we set a number of our DoE samples to NaN."
   ]
  },
  {
   "cell_type": "code",
   "execution_count": 176,
   "metadata": {
    "id": "g02LCmOPbwL3",
    "outputId": "8e2f141d-2a54-427f-9b2e-2466cf9b0add"
   },
   "outputs": [
    {
     "data": {
      "image/png": "[encoded data removed]",
      "text/plain": [
       "<Figure size 432x288 with 1 Axes>"
      ]
     },
     "metadata": {
      "needs_background": "light"
     },
     "output_type": "display_data"
    }
   ],
   "source": [
    "# Enter list of points you want to set to NaN here (0 to 15)\n",
    "indices = [1,7,9,14]\n",
    "indices_to_set_to_NaN = np.asarray(indices)\n",
    "\n",
    "# Set chosen points to NaN\n",
    "Yp_with_NaNs = deepcopy(Yp)\n",
    "Yp_with_NaNs[indices_to_set_to_NaN] = np.nan * indices_to_set_to_NaN.reshape(len(indices_to_set_to_NaN),1)\n",
    "\n",
    "# Plot the DOE points\n",
    "NaN = np.isnan(Yp_with_NaNs).flatten()\n",
    "plt.plot(pts[~NaN,0], pts[~NaN,1], 'bo', markersize=15,label='Not NaN')\n",
    "plt.plot(pts[NaN,0], pts[NaN,1], 'rx', markersize=15,label='NaN')\n",
    "plt.xlabel(r'$\\hat{\\nu}/\\nu$', fontsize=15)\n",
    "plt.ylabel(r'$Ti (\\%)$', fontsize=15)\n",
    "plt.legend(loc='upper center')\n",
    "plt.ylim([2,22])\n",
    "plt.show()"
   ]
  },
  {
   "cell_type": "markdown",
   "metadata": {
    "id": "9XY5UKYobwL3"
   },
   "source": [
    "Now pass the ``Yp_with_NaNs`` array to ``mypoly`` with ``set_model()``."
   ]
  },
  {
   "cell_type": "code",
   "execution_count": 177,
   "metadata": {
    "id": "OX7baOO_bwL3",
    "outputId": "a610196f-d517-4668-97e2-f21a4881cc72"
   },
   "outputs": [
    {
     "name": "stdout",
     "output_type": "stream",
     "text": [
      "WARNING: One or more of your model evaluations have resulted in an NaN. We found 4 NaNs out of 16.\n",
      "The code will now use a least-squares technique that will ignore input-output pairs of your model that have NaNs. This will likely compromise computed statistics.\n"
     ]
    }
   ],
   "source": [
    "mypoly_NaN = deepcopy(mypoly)\n",
    "mypoly_NaN.set_model(Yp_with_NaNs)"
   ]
  },
  {
   "cell_type": "markdown",
   "metadata": {
    "id": "LDuAB3YebwL3"
   },
   "source": [
    "So the code has automatically detected that some of the model evaluations are NaN, and it has switched to `least-squares` regression which can cope with missing samples. Lets compute the moments and see how accurate they are compared to the case without NaNs."
   ]
  },
  {
   "cell_type": "code",
   "execution_count": 178,
   "metadata": {
    "id": "Qbw5R-debwL4",
    "outputId": "54a69d5b-c40a-4893-9fb8-338ac09f3051"
   },
   "outputs": [
    {
     "name": "stdout",
     "output_type": "stream",
     "text": [
      "Original  Mean = 0.0532, Original  confidence interval = 0.881%\n",
      "With NaNs Mean = 0.0532, with NaNs confidence interval = 0.873%\n",
      "Errors as a % of original values: mean = 0.019%, variance = -1.755%\n"
     ]
    }
   ],
   "source": [
    "# Compute moments\n",
    "mean_with_NaNs, var_with_NaNs = mypoly_NaN.get_mean_and_variance()\n",
    "\n",
    "# Print\n",
    "print('Original  Mean = %.3g, Original  confidence interval = %.3g%%' %(mean,100*1.96*np.sqrt(var)/mean))\n",
    "print('With NaNs Mean = %.3g, with NaNs confidence interval = %.3g%%' %(mean_with_NaNs,100*1.96*np.sqrt(var_with_NaNs)/mean_with_NaNs))\n",
    "err_mean = 100.*(mean_with_NaNs-mean)/mean\n",
    "err_var  = 100.*(var_with_NaNs -var) /var\n",
    "print('Errors as a %% of original values: mean = %.3f%%, variance = %.3f%%' %(err_mean,err_var))"
   ]
  },
  {
   "cell_type": "markdown",
   "metadata": {
    "id": "Hh9J-0PGbwL4"
   },
   "source": [
    "Not too bad! This is usually the case, as long as we don't have too many invalid samples..."
   ]
  },
  {
   "cell_type": "markdown",
   "metadata": {
    "id": "mkbrr9AEbwL4"
   },
   "source": [
    "### Sensitivity analysis"
   ]
  },
  {
   "cell_type": "markdown",
   "metadata": {
    "id": "9fXjj5_lbwL4"
   },
   "source": [
    "As covered by a previous [blog post](https://discourse.effective-quadratures.org/t/sensitivity-analysis-with-effective-quadratures/30), `get_sobol_indices` computes the Sobol indices, which quantify the sensitivity of the model output to the input parameters. \n",
    "\n",
    "We now do this for the first order sobol indices $S_i$."
   ]
  },
  {
   "cell_type": "code",
   "execution_count": 179,
   "metadata": {
    "id": "fvBEKyhBbwL5",
    "outputId": "2cf402d8-ca00-4147-ad35-54f3182cc0a1"
   },
   "outputs": [
    {
     "data": {
      "text/plain": [
       "{(0,): 0.8402230587095255, (1,): 0.13229796898564183}"
      ]
     },
     "execution_count": 179,
     "metadata": {},
     "output_type": "execute_result"
    }
   ],
   "source": [
    "mypoly.get_sobol_indices(order=1)"
   ]
  },
  {
   "cell_type": "markdown",
   "metadata": {
    "id": "2kmyCwLZbwL5"
   },
   "source": [
    "Clearly, $Y_p$ is significantly more sensitive to $s_1$ ($\\nu_t/\\nu$) than $s_2$ ($Ti$). This is potentially a problem when we are looking to run CFD simulations of this nature, since ($\\nu_t/\\nu$) is more difficult to measure, so we often don't have a good idea of what its value should be. "
   ]
  },
  {
   "cell_type": "markdown",
   "metadata": {
    "id": "V9A6t-KybwL5"
   },
   "source": [
    "### Visualising the response surface"
   ]
  },
  {
   "cell_type": "markdown",
   "metadata": {
    "id": "kmfrVTtWbwL5"
   },
   "source": [
    "We can obtain a a surrogate model $\\hat{f}(s_1,s_2)$ from ``mypoly`` with ``get_polyfit``. Lets plot this to visualise the model's response to our parameters $s_1$ and $s_2$. "
   ]
  },
  {
   "cell_type": "code",
   "execution_count": 201,
   "metadata": {
    "id": "VkIgl-c1bwL5",
    "outputId": "ca124c85-7b85-49f2-ea06-2dc352ab60cc"
   },
   "outputs": [
    {
     "data": {
      "image/png": "[encoded data removed]",
      "text/plain": [
       "<Figure size 720x720 with 1 Axes>"
      ]
     },
     "metadata": {
      "needs_background": "light"
     },
     "output_type": "display_data"
    }
   ],
   "source": [
    "# Get the mypolyfit model\n",
    "mypolyfit = mypoly.get_polyfit\n",
    "\n",
    "# Get the sampling points\n",
    "pts = mypoly.get_points()\n",
    "\n",
    "# Sample the polyfit at N number of points so we can plot it\n",
    "N = 20\n",
    "s1_samples = np.linspace(pts[0,0], pts[-1,0], N)\n",
    "s2_samples = np.linspace(pts[0,1], pts[-1,1], N)\n",
    "[S1, S2] = np.meshgrid(s1_samples, s2_samples)\n",
    "S1_vec = np.reshape(S1, (N*N, 1))\n",
    "S2_vec = np.reshape(S2, (N*N, 1))\n",
    "samples = np.hstack([S1_vec, S2_vec])\n",
    "PolyDiscreet = mypolyfit( samples )\n",
    "PolyDiscreet = np.reshape(PolyDiscreet, (N, N))\n",
    "\n",
    "fig = plt.figure(figsize=(10,10))\n",
    "ax = fig.add_subplot(111, projection='3d')\n",
    "\n",
    "# Plot the discretised poly PolyDiscreet as a surface\n",
    "surf = ax.plot_surface(S1, S2, PolyDiscreet, rstride=1, cstride=1, cmap=plt.cm.gist_earth, linewidth=0, alpha=0.6, label='Tensor grid')\n",
    "# Plot the actual doe points as black circles\n",
    "scatter = ax.scatter(pts[:,0],pts[:,1],Yp, c='k', marker='o')\n",
    "\n",
    "ax.set_xlabel(r'$\\frac{\\nu_t}{\\nu}$', fontsize=15,labelpad=10)\n",
    "ax.set_ylabel(r'$Ti$ ($\\%$)', fontsize=15, labelpad=10)\n",
    "ax.set_zlabel(r'$Y_p$', fontsize=15, labelpad=20); ax.tick_params(axis='z', which='major', pad=10)\n",
    "ax.view_init(15, 25)\n",
    "plt.show()"
   ]
  },
  {
   "cell_type": "markdown",
   "metadata": {},
   "source": [
    "## References\n",
    "[1] Xiu, D., and Karniadakis, G. E. (2002), The Wiener-Askey polynomial chaos for stochastic differential equations. SIAM J. Sci. Comput. 24.2: 619-644. [Paper](https://doi.org/10.1137/S1064827501387826)."
   ]
  },
  {
   "cell_type": "code",
   "execution_count": null,
   "metadata": {},
   "outputs": [],
   "source": []
  }
 ],
 "metadata": {
  "celltoolbar": "Edit Metadata",
  "colab": {
   "name": "computing_moments.ipynb",
   "provenance": []
  },
  "kernelspec": {
   "display_name": "Python 3",
   "language": "python",
   "name": "python3"
  },
  "language_info": {
   "codemirror_mode": {
    "name": "ipython",
    "version": 3
   },
   "file_extension": ".py",
   "mimetype": "text/x-python",
   "name": "python",
   "nbconvert_exporter": "python",
   "pygments_lexer": "ipython3",
   "version": "3.7.0"
  },
  "widgets": {
   "application/vnd.jupyter.widget-state+json": {
    "39ff90c06a6744dfa916d3f2f14dd487": {
     "model_module": "@jupyter-widgets/controls",
     "model_name": "ButtonStyleModel",
     "state": {
      "_model_module": "@jupyter-widgets/controls",
      "_model_module_version": "1.5.0",
      "_model_name": "ButtonStyleModel",
      "_view_count": null,
      "_view_module": "@jupyter-widgets/base",
      "_view_module_version": "1.2.0",
      "_view_name": "StyleView",
      "button_color": null,
      "font_weight": ""
     }
    },
    "50ea96e6ff824bdf88319a3b69c62ded": {
     "model_module": "@jupyter-widgets/output",
     "model_name": "OutputModel",
     "state": {
      "_dom_classes": [],
      "_model_module": "@jupyter-widgets/output",
      "_model_module_version": "1.0.0",
      "_model_name": "OutputModel",
      "_view_count": null,
      "_view_module": "@jupyter-widgets/output",
      "_view_module_version": "1.0.0",
      "_view_name": "OutputView",
      "layout": "IPY_MODEL_e06b003e1ce84bdbbca1c079cd42b8d0",
      "msg_id": "",
      "outputs": []
     }
    },
    "5c51cdc1a30e48878064714c6d59cd79": {
     "model_module": "@jupyter-widgets/base",
     "model_name": "LayoutModel",
     "state": {
      "_model_module": "@jupyter-widgets/base",
      "_model_module_version": "1.2.0",
      "_model_name": "LayoutModel",
      "_view_count": null,
      "_view_module": "@jupyter-widgets/base",
      "_view_module_version": "1.2.0",
      "_view_name": "LayoutView",
      "align_content": null,
      "align_items": null,
      "align_self": null,
      "border": null,
      "bottom": null,
      "display": null,
      "flex": null,
      "flex_flow": null,
      "grid_area": null,
      "grid_auto_columns": null,
      "grid_auto_flow": null,
      "grid_auto_rows": null,
      "grid_column": null,
      "grid_gap": null,
      "grid_row": null,
      "grid_template_areas": null,
      "grid_template_columns": null,
      "grid_template_rows": null,
      "height": null,
      "justify_content": null,
      "justify_items": null,
      "left": null,
      "margin": null,
      "max_height": null,
      "max_width": null,
      "min_height": null,
      "min_width": null,
      "object_fit": null,
      "object_position": null,
      "order": null,
      "overflow": null,
      "overflow_x": null,
      "overflow_y": null,
      "padding": null,
      "right": null,
      "top": null,
      "visibility": null,
      "width": null
     }
    },
    "6ea5fbfb7c30496d80ba401274d19a74": {
     "model_module": "@jupyter-widgets/controls",
     "model_name": "IntSliderModel",
     "state": {
      "_dom_classes": [],
      "_model_module": "@jupyter-widgets/controls",
      "_model_module_version": "1.5.0",
      "_model_name": "IntSliderModel",
      "_view_count": null,
      "_view_module": "@jupyter-widgets/controls",
      "_view_module_version": "1.5.0",
      "_view_name": "IntSliderView",
      "continuous_update": true,
      "description": "N",
      "description_tooltip": null,
      "disabled": false,
      "layout": "IPY_MODEL_eaca711913c84ef9a4be273f43ced851",
      "max": 1000,
      "min": 5,
      "orientation": "horizontal",
      "readout": true,
      "readout_format": "d",
      "step": 1,
      "style": "IPY_MODEL_bc34b4e5245d48c99f546b36a27e6708",
      "value": 5
     }
    },
    "89e8e6b63a2c43b587809552e9c6bff8": {
     "model_module": "@jupyter-widgets/base",
     "model_name": "LayoutModel",
     "state": {
      "_model_module": "@jupyter-widgets/base",
      "_model_module_version": "1.2.0",
      "_model_name": "LayoutModel",
      "_view_count": null,
      "_view_module": "@jupyter-widgets/base",
      "_view_module_version": "1.2.0",
      "_view_name": "LayoutView",
      "align_content": null,
      "align_items": null,
      "align_self": null,
      "border": null,
      "bottom": null,
      "display": null,
      "flex": null,
      "flex_flow": null,
      "grid_area": null,
      "grid_auto_columns": null,
      "grid_auto_flow": null,
      "grid_auto_rows": null,
      "grid_column": null,
      "grid_gap": null,
      "grid_row": null,
      "grid_template_areas": null,
      "grid_template_columns": null,
      "grid_template_rows": null,
      "height": null,
      "justify_content": null,
      "justify_items": null,
      "left": null,
      "margin": null,
      "max_height": null,
      "max_width": null,
      "min_height": null,
      "min_width": null,
      "object_fit": null,
      "object_position": null,
      "order": null,
      "overflow": null,
      "overflow_x": null,
      "overflow_y": null,
      "padding": null,
      "right": null,
      "top": null,
      "visibility": null,
      "width": null
     }
    },
    "bc34b4e5245d48c99f546b36a27e6708": {
     "model_module": "@jupyter-widgets/controls",
     "model_name": "SliderStyleModel",
     "state": {
      "_model_module": "@jupyter-widgets/controls",
      "_model_module_version": "1.5.0",
      "_model_name": "SliderStyleModel",
      "_view_count": null,
      "_view_module": "@jupyter-widgets/base",
      "_view_module_version": "1.2.0",
      "_view_name": "StyleView",
      "description_width": "",
      "handle_color": null
     }
    },
    "c842e0d07c9a45d2866b09563d579fef": {
     "model_module": "@jupyter-widgets/controls",
     "model_name": "ButtonModel",
     "state": {
      "_dom_classes": [],
      "_model_module": "@jupyter-widgets/controls",
      "_model_module_version": "1.5.0",
      "_model_name": "ButtonModel",
      "_view_count": null,
      "_view_module": "@jupyter-widgets/controls",
      "_view_module_version": "1.5.0",
      "_view_name": "ButtonView",
      "button_style": "",
      "description": "Run Interact",
      "disabled": false,
      "icon": "",
      "layout": "IPY_MODEL_89e8e6b63a2c43b587809552e9c6bff8",
      "style": "IPY_MODEL_39ff90c06a6744dfa916d3f2f14dd487",
      "tooltip": ""
     }
    },
    "d22438c224734cf5a506491fd9f04eb7": {
     "model_module": "@jupyter-widgets/controls",
     "model_name": "VBoxModel",
     "state": {
      "_dom_classes": [
       "widget-interact"
      ],
      "_model_module": "@jupyter-widgets/controls",
      "_model_module_version": "1.5.0",
      "_model_name": "VBoxModel",
      "_view_count": null,
      "_view_module": "@jupyter-widgets/controls",
      "_view_module_version": "1.5.0",
      "_view_name": "VBoxView",
      "box_style": "",
      "children": [
       "IPY_MODEL_6ea5fbfb7c30496d80ba401274d19a74",
       "IPY_MODEL_c842e0d07c9a45d2866b09563d579fef",
       "IPY_MODEL_50ea96e6ff824bdf88319a3b69c62ded"
      ],
      "layout": "IPY_MODEL_5c51cdc1a30e48878064714c6d59cd79"
     }
    },
    "e06b003e1ce84bdbbca1c079cd42b8d0": {
     "model_module": "@jupyter-widgets/base",
     "model_name": "LayoutModel",
     "state": {
      "_model_module": "@jupyter-widgets/base",
      "_model_module_version": "1.2.0",
      "_model_name": "LayoutModel",
      "_view_count": null,
      "_view_module": "@jupyter-widgets/base",
      "_view_module_version": "1.2.0",
      "_view_name": "LayoutView",
      "align_content": null,
      "align_items": null,
      "align_self": null,
      "border": null,
      "bottom": null,
      "display": null,
      "flex": null,
      "flex_flow": null,
      "grid_area": null,
      "grid_auto_columns": null,
      "grid_auto_flow": null,
      "grid_auto_rows": null,
      "grid_column": null,
      "grid_gap": null,
      "grid_row": null,
      "grid_template_areas": null,
      "grid_template_columns": null,
      "grid_template_rows": null,
      "height": null,
      "justify_content": null,
      "justify_items": null,
      "left": null,
      "margin": null,
      "max_height": null,
      "max_width": null,
      "min_height": null,
      "min_width": null,
      "object_fit": null,
      "object_position": null,
      "order": null,
      "overflow": null,
      "overflow_x": null,
      "overflow_y": null,
      "padding": null,
      "right": null,
      "top": null,
      "visibility": null,
      "width": null
     }
    },
    "eaca711913c84ef9a4be273f43ced851": {
     "model_module": "@jupyter-widgets/base",
     "model_name": "LayoutModel",
     "state": {
      "_model_module": "@jupyter-widgets/base",
      "_model_module_version": "1.2.0",
      "_model_name": "LayoutModel",
      "_view_count": null,
      "_view_module": "@jupyter-widgets/base",
      "_view_module_version": "1.2.0",
      "_view_name": "LayoutView",
      "align_content": null,
      "align_items": null,
      "align_self": null,
      "border": null,
      "bottom": null,
      "display": null,
      "flex": null,
      "flex_flow": null,
      "grid_area": null,
      "grid_auto_columns": null,
      "grid_auto_flow": null,
      "grid_auto_rows": null,
      "grid_column": null,
      "grid_gap": null,
      "grid_row": null,
      "grid_template_areas": null,
      "grid_template_columns": null,
      "grid_template_rows": null,
      "height": null,
      "justify_content": null,
      "justify_items": null,
      "left": null,
      "margin": null,
      "max_height": null,
      "max_width": null,
      "min_height": null,
      "min_width": null,
      "object_fit": null,
      "object_position": null,
      "order": null,
      "overflow": null,
      "overflow_x": null,
      "overflow_y": null,
      "padding": null,
      "right": null,
      "top": null,
      "visibility": null,
      "width": null
     }
    }
   }
  }
 },
 "nbformat": 4,
 "nbformat_minor": 1
}
