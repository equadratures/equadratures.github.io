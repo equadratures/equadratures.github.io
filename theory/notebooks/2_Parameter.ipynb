{
 "cells": [
  {
   "cell_type": "markdown",
   "metadata": {
    "id": "2Oos-lpfEQXI"
   },
   "source": [
    "# Parameters\n",
    "\n",
    "Define a scalar-valued quantity of interest (qoi) as $f = f\\left(\\boldsymbol{x} \\right)$ where $\\boldsymbol{x} = (x^{(1)}, \\ldots, x^{(d)} )$ is a $d$-dimensional vector of mutually independent variables. Thus the function $f$ is a map from $\\mathbb{R}^{d} \\rightarrow \\mathbb{R}$. Here, each parameter $x^{(i)}$ belongs to a domain $\\mathcal{X}^{(i)} \\in \\mathbb{R}$, that can be an infinite interval $\\left(-\\infty, \\infty \\right)$, a semi-infinite interval $\\left(-\\infty, b \\right]$ or $\\left[a, \\infty \\right)$, or a closed (finite) interval $\\left[a, b\\right]$. This interval represents the support of each parameter. We generally consider the input domain to be a non-compact hypercube decomposed as a Cartesian product of the form $\\mathcal{X}=\\mathcal{X}^{(1)} \\times \\dots \\times \\mathcal{X}^{(d)}$."
   ]
  },
  {
   "cell_type": "markdown",
   "metadata": {},
   "source": [
    "Along each interval, consider a positive weight function $\\rho_{i} \\left( x^{(i)} \\right)>0$ over the domain $\\mathcal{X}^{(i)}$ such that\n",
    "\n",
    "\\begin{equation}\n",
    "\\int_{\\mathcal{X}^{i}}\\left(x^{(i)}\\right)^{k}\\rho_{i}\\left(x^{\\left(i\\right)}\\right)dx^{\\left(i\\right)}<\\infty, \\; \\; \\; \\text{where} \\; \\; \\; \\int_{\\mathcal{X}^{i}}\\rho_{i}\\left(x^{\\left(i\\right)}\\right)dx^{\\left(i\\right)}=1,\n",
    "\\label{eq:pdf}{\\tag{1}}\n",
    "\\end{equation}\n",
    "\n",
    "for $k=1, 2, \\ldots$, and where $i=1, \\ldots, d$. The second expression in $\\eqref{eq:pdf}$ naturally leads to the interpretation that $\\rho_{i} \\left( x^{(i)} \\right)$ is a probability density function over the domain $\\mathcal{X}^{(i)}$. In making the assumption that $\\boldsymbol{x}$ is a vector of independent variables, the joint density $\\boldsymbol{\\rho}$ of all the probability distributions associated with $\\boldsymbol{x}$ is given by\n",
    "\\begin{equation}\n",
    "\\boldsymbol{\\rho}(\\boldsymbol{x})=\\prod_{i=1}^d \\rho_i\\left(x^{(i)}\\right),\n",
    "\\label{eq:marginals}{\\tag{2}}\n",
    "\\end{equation}\n",
    "defined on $\\mathbb{R}^d$; should the variables be correlated then $\\eqref{eq:marginals}$ no longer holds."
   ]
  },
  {
   "cell_type": "markdown",
   "metadata": {},
   "source": [
    "Defining a parameter in equadratures can be found in the tutorial [here](https://equadratures.org/documentation/tutorials/tutorials/1_Defining_a_Parameter.html)."
   ]
  }
 ],
 "metadata": {
  "celltoolbar": "Edit Metadata",
  "colab": {
   "name": "1_Introduction.ipynb",
   "provenance": []
  },
  "kernelspec": {
   "display_name": "Python 3 (ipykernel)",
   "language": "python",
   "name": "python3"
  },
  "language_info": {
   "codemirror_mode": {
    "name": "ipython",
    "version": 3
   },
   "file_extension": ".py",
   "mimetype": "text/x-python",
   "name": "python",
   "nbconvert_exporter": "python",
   "pygments_lexer": "ipython3",
   "version": "3.9.7"
  }
 },
 "nbformat": 4,
 "nbformat_minor": 4
}
