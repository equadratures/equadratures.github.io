{
 "cells": [
  {
   "cell_type": "code",
   "execution_count": 2,
   "metadata": {
    "id": "lsJ-xfsYU2zB",
    "nbsphinx": "hidden"
   },
   "outputs": [],
   "source": [
    "# Check if running on colab\n",
    "try:\n",
    "  import google.colab\n",
    "  IN_COLAB = True\n",
    "except:\n",
    "  IN_COLAB = False\n",
    "\n",
    "# pip install any missing packages\n",
    "if IN_COLAB:\n",
    "  !pip install equadratures # for standard pip install"
   ]
  },
  {
   "cell_type": "markdown",
   "metadata": {
    "id": "eayMKGzFU2zB"
   },
   "source": [
    "# Sensitivity analysis for a piston model\n",
    "\n",
    "In many computational problems there are a few key inputs that actually dictate the state of the output. Computing the Sobol' indices of the inputs is one approach to determine which inputs are the *drivers*. Typically computation of the Sobol' indices involves a large number of samples -- significantly more than required to get the variance in the data. However as shown in Blatman et al. [1], using orthogonal polynomials these can be computed with relative ease. In this notebook we demonstrate how we can compute these indices using `equadratures`. \n",
    "\n",
    "We consider the well-known piston problem from Kenett et al. [2] that is a non-linear, seven-dimensional problem that outputs the piston cycle time given various piston parameters. These parameters and their bounds are shown in the table below.\n",
    "\n",
    "Variable | Range            | Description\n",
    ":--------|:-----------------|:---------------------\n",
    "$M$      | [30, 60]         | Piston weight\n",
    "$S$      | [0.005, 0.0020]  | Surface area\n",
    "$V_0$    | [0.002, 0.010]   | Initial gas volume\n",
    "$k$      | [1000,5000]      | Spring coefficient\n",
    "$P_0$    | [90000, 110000]  | Atmospheric pressure\n",
    "$T_a$    | [290, 296]       | Ambient temperature\n",
    "$T_0$    | [340, 360]       | Filling gas temperature\n",
    "\n",
    "The cycle time for the piston is given by\n",
    "\n",
    "$$\n",
    "C=2\\pi\\sqrt{\\frac{M}{k+S^{2}\\frac{P_{0}V_{0}T_{a}}{T_{0}V^{2}}}},\n",
    "$$\n",
    "\n",
    "where\n",
    "\n",
    "$$\n",
    "V=\\frac{S}{2k}\\left(\\sqrt{A^{2}+4k\\frac{P_{0}V_{0}}{T_{0}}T_{a}}-A\\right),\n",
    "$$\n",
    "\n",
    "and $A=P_{0}S+19.62M-\\frac{kV_{0}}{S}$. The estimated *unnormalized* Sobol' indices (denoted $\\tau_i^2$) from Kenett et al. [2] are given to be:\n",
    "\n",
    "Variable                          | $M$     | $S$   | $V_0$ | $k$   | $P_0$   | $T_a$   | $T_0$  |\n",
    ":---------------------------------|:-------:|:-----:|:-----:|:-----:|:-------:|:-------:|:------:|\n",
    "$10^2 \\tau^{2}$ indices | 0.073   | 1.088 | 0.626 | 0.040 | 0.001   | -0.002  | -0.002 |\n",
    "\n",
    "These values measure the effect of varying each of the 7 input parameters on the output, the piston cycle time $C$. Dividing these values by the variance of the output gives the normalised Sobol' indices. For example, the first order normalised Sobol' index for the $i^{th}$ input parameter is\n",
    "\n",
    "$$\n",
    "S_i = \\frac{\\tau_i^2}{\\sigma^2}\n",
    "$$\n",
    "\n",
    "See Section 2.2 in [3] for further details. We wish to use Effective Quadratures to compute these values for the piston problem. \n",
    "\n",
    "As before, we begin by defining each parameter and its range using four points for each variable."
   ]
  },
  {
   "cell_type": "code",
   "execution_count": 4,
   "metadata": {},
   "outputs": [],
   "source": [
    "import numpy as np                                                                                                                                                                                      \n",
    "import matplotlib.pyplot as plt\n",
    "import equadratures as eq\n",
    "\n",
    "order_parameters = 3\n",
    "mass     = eq.Parameter(distribution='uniform', lower=30.0, upper=60.0, order=order_parameters)\n",
    "area     = eq.Parameter(distribution='uniform', lower=0.005, upper=0.020, order=order_parameters)\n",
    "volume   = eq.Parameter(distribution='uniform', lower=0.002, upper=0.010, order=order_parameters)\n",
    "spring   = eq.Parameter(distribution='uniform', lower=1000., upper=5000., order=order_parameters)\n",
    "pressure = eq.Parameter(distribution='uniform', lower=90000., upper=110000., order=order_parameters)\n",
    "ambtemp  = eq.Parameter(distribution='uniform', lower=290., upper=296., order=order_parameters)\n",
    "gastemp  = eq.Parameter(distribution='uniform', lower=340., upper=360., order=order_parameters)\n",
    "parameters = [mass, area, volume, spring, pressure, ambtemp, gastemp]"
   ]
  },
  {
   "cell_type": "markdown",
   "metadata": {},
   "source": [
    "Then, we define the piston model:"
   ]
  },
  {
   "cell_type": "code",
   "execution_count": 7,
   "metadata": {},
   "outputs": [],
   "source": [
    "def piston(x):\n",
    "    mass, area, volume, spring, pressure, ambtemp, gastemp = x[0], x[1], x[2], x[3], x[4], x[5], x[6]\n",
    "    A = pressure * area + 19.62*mass - (spring * volume)/(1.0 * area)\n",
    "    V = (area/(2*spring)) * ( np.sqrt(A**2 + 4*spring * pressure * volume * ambtemp/gastemp) - A)\n",
    "    C = 2 * np.pi * np.sqrt(mass/(spring + area**2 * pressure * volume * ambtemp/(gastemp * V**2)))\n",
    "    return C"
   ]
  },
  {
   "cell_type": "markdown",
   "metadata": {},
   "source": [
    "We will opt for a total order basis set with qr subsampling."
   ]
  },
  {
   "cell_type": "code",
   "execution_count": 10,
   "metadata": {},
   "outputs": [],
   "source": [
    "mybasis = eq.Basis('total-order')\n",
    "mypoly  = eq.Poly(parameters, mybasis, method='least-squares',\\\n",
    "                  sampling_args={'mesh':'tensor-grid', 'subsampling-algorithm':'qr', 'sampling-ratio':1.0})"
   ]
  },
  {
   "cell_type": "markdown",
   "metadata": {},
   "source": [
    "Now (and this is the important part), we wish to ascertain how many model evaluations will be required for computing these sensitivities. The objective is for these to be orders of magnitude lower than other methods for computing Sobol' indices."
   ]
  },
  {
   "cell_type": "code",
   "execution_count": 11,
   "metadata": {},
   "outputs": [
    {
     "data": {
      "text/plain": [
       "120"
      ]
     },
     "execution_count": 11,
     "metadata": {},
     "output_type": "execute_result"
    }
   ],
   "source": [
    "mypoly.basis.cardinality"
   ]
  },
  {
   "cell_type": "markdown",
   "metadata": {},
   "source": [
    "Excellent! So the number of model evaluations we will require is 120! Now lets compute the coefficients and get the Sobol indices to ascertain which of the variables above are the most important."
   ]
  },
  {
   "cell_type": "code",
   "execution_count": 12,
   "metadata": {},
   "outputs": [],
   "source": [
    "mypoly.set_model(piston)\n",
    "mean, var = mypoly.get_mean_and_variance()\n",
    "sobol = mypoly.get_sobol_indices(1)"
   ]
  },
  {
   "cell_type": "markdown",
   "metadata": {},
   "source": [
    "For the *unnormalised* Sobol' indices we obtain "
   ]
  },
  {
   "cell_type": "code",
   "execution_count": 13,
   "metadata": {},
   "outputs": [
    {
     "name": "stdout",
     "output_type": "stream",
     "text": [
      "0.08539566261615422\n",
      "1.0891138923819914\n",
      "0.6185474012210984\n",
      "0.0461594487842166\n",
      "0.003561262905089266\n",
      "0.0011791102008189406\n",
      "0.00039249850671305234\n"
     ]
    }
   ],
   "source": [
    "for i in range(0, len(parameters)):\n",
    "    print(float(sobol[(i,)]) * 10**2 * var)"
   ]
  },
  {
   "cell_type": "markdown",
   "metadata": {},
   "source": [
    "which are similar to the values obtained by Owen. Next, we plot the *normalized* Sobol' indices with the code below."
   ]
  },
  {
   "cell_type": "code",
   "execution_count": 23,
   "metadata": {
    "tags": [
     "nbsphinx-thumbnail"
    ]
   },
   "outputs": [
    {
     "data": {
      "image/png": "[encoded data removed]",
      "text/plain": [
       "<Figure size 648x432 with 1 Axes>"
      ]
     },
     "metadata": {
      "needs_background": "light"
     },
     "output_type": "display_data"
    }
   ],
   "source": [
    "mypoly.plot_sobol()"
   ]
  },
  {
   "cell_type": "markdown",
   "metadata": {},
   "source": [
    "We can also obtain higher order Sobol indices, which tell us about the importance of interaction between input parameters. For example, for the $2^{nd}$ order indices:"
   ]
  },
  {
   "cell_type": "code",
   "execution_count": 22,
   "metadata": {},
   "outputs": [
    {
     "data": {
      "image/png": "[encoded data removed]",
      "text/plain": [
       "<Figure size 648x432 with 1 Axes>"
      ]
     },
     "metadata": {
      "needs_background": "light"
     },
     "output_type": "display_data"
    }
   ],
   "source": [
    "mypoly.plot_sobol(order=2)"
   ]
  },
  {
   "cell_type": "markdown",
   "metadata": {},
   "source": [
    "### References\n",
    "\n",
    "[1] Blatman, G., and Bruno S. (2011), Adaptive sparse polynomial chaos expansion based on least angle regression. Journal of Computational Physics 230.6: 2345-2367. [Paper](https://doi.org/10.1016/j.jcp.2010.12.021).\n",
    "\n",
    "[2] Kenett, R., Shelemyahu Z., and Daniele A. (2013), Modern Industrial Statistics: with applications in R, MINITAB and JMP. John Wiley & Sons. [Book](https://dl.acm.org/doi/10.5555/2568447).\n",
    "\n",
    "[3] Owen, A. B., Dick, J. and Chen, S. (2014), Higher order Sobol' indices. Information and Inference 3.1: 59-81. [Paper](https://doi.org/10.1093/imaiai/iau001)."
   ]
  },
  {
   "cell_type": "code",
   "execution_count": null,
   "metadata": {},
   "outputs": [],
   "source": []
  }
 ],
 "metadata": {
  "celltoolbar": "Edit Metadata",
  "colab": {
   "name": "obtaining_subspaces.ipynb",
   "provenance": []
  },
  "kernelspec": {
   "display_name": "Python 3",
   "language": "python",
   "name": "python3"
  },
  "language_info": {
   "codemirror_mode": {
    "name": "ipython",
    "version": 3
   },
   "file_extension": ".py",
   "mimetype": "text/x-python",
   "name": "python",
   "nbconvert_exporter": "python",
   "pygments_lexer": "ipython3",
   "version": "3.7.0"
  }
 },
 "nbformat": 4,
 "nbformat_minor": 1
}
